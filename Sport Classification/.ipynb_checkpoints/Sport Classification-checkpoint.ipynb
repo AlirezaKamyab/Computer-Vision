{
 "cells": [
  {
   "cell_type": "markdown",
   "id": "4fafb489",
   "metadata": {},
   "source": [
    "# Sport Classification"
   ]
  },
  {
   "cell_type": "code",
   "execution_count": 1,
   "id": "6344f3f7",
   "metadata": {},
   "outputs": [],
   "source": [
    "import os\n",
    "os.environ['TF_CPP_MIN_LOG_LEVEL'] = '2'"
   ]
  },
  {
   "cell_type": "code",
   "execution_count": 3,
   "id": "eee93d23",
   "metadata": {},
   "outputs": [
    {
     "ename": "IndexError",
     "evalue": "list index out of range",
     "output_type": "error",
     "traceback": [
      "\u001b[0;31m---------------------------------------------------------------------------\u001b[0m",
      "\u001b[0;31mIndexError\u001b[0m                                Traceback (most recent call last)",
      "Cell \u001b[0;32mIn[3], line 10\u001b[0m\n\u001b[1;32m      8\u001b[0m \u001b[38;5;66;03m# GPU set up\u001b[39;00m\n\u001b[1;32m      9\u001b[0m physical_devices \u001b[38;5;241m=\u001b[39m tf\u001b[38;5;241m.\u001b[39mconfig\u001b[38;5;241m.\u001b[39mexperimental\u001b[38;5;241m.\u001b[39mlist_physical_devices(\u001b[38;5;124m'\u001b[39m\u001b[38;5;124mGPU\u001b[39m\u001b[38;5;124m'\u001b[39m)\n\u001b[0;32m---> 10\u001b[0m tf\u001b[38;5;241m.\u001b[39mconfig\u001b[38;5;241m.\u001b[39mexperimental\u001b[38;5;241m.\u001b[39mset_memory_growth(\u001b[43mphysical_devices\u001b[49m\u001b[43m[\u001b[49m\u001b[38;5;241;43m0\u001b[39;49m\u001b[43m]\u001b[49m, \u001b[38;5;28;01mTrue\u001b[39;00m)\n",
      "\u001b[0;31mIndexError\u001b[0m: list index out of range"
     ]
    }
   ],
   "source": [
    "import tensorflow as tf\n",
    "import matplotlib.pyplot as plt\n",
    "import numpy as np\n",
    "import seaborn as sns\n",
    "\n",
    "sns.set_theme()\n",
    "\n",
    "# GPU set up\n",
    "physical_devices = tf.config.experimental.list_physical_devices('GPU')\n",
    "tf.config.experimental.set_memory_growth(physical_devices[0], True)"
   ]
  },
  {
   "cell_type": "code",
   "execution_count": null,
   "id": "3eedcf89",
   "metadata": {},
   "outputs": [],
   "source": [
    "from tensorflow.keras.preprocessing.image import ImageDataGenerator\n",
    "from tensorflow.keras.layers import Dense, Conv2D, Flatten, BatchNormalization, Input, MaxPooling2D, Dropout, GlobalMaxPooling2D\n",
    "\n",
    "from sklearn.metrics import confusion_matrix, classification_report"
   ]
  },
  {
   "cell_type": "code",
   "execution_count": null,
   "id": "72330dbb",
   "metadata": {},
   "outputs": [],
   "source": [
    "target_size = (224, 224)\n",
    "batch_size = 32\n",
    "\n",
    "data_gen_aug = ImageDataGenerator(rotation_range=45, width_shift_range=0.3, height_shift_range=0.3,\n",
    "                                 shear_range=0.1, zoom_range=0.3, vertical_flip=True, horizontal_flip=True)\n",
    "data_gen = ImageDataGenerator()\n",
    "train_data = data_gen_aug.flow_from_directory('Data/train', target_size=target_size, batch_size=batch_size, \n",
    "                                         class_mode='categorical')\n",
    "\n",
    "valid_data = data_gen.flow_from_directory('Data/valid', target_size=target_size, batch_size=batch_size,\n",
    "                                         class_mode='categorical')\n",
    "\n",
    "class_indices = train_data.class_indices\n",
    "indicies_class = list(class_indices.keys())\n",
    "num_classes = len(class_indices)"
   ]
  },
  {
   "cell_type": "code",
   "execution_count": null,
   "id": "60b29877",
   "metadata": {},
   "outputs": [],
   "source": [
    "freq = [0 for _ in range(num_classes)]\n",
    "\n",
    "cnt = 0\n",
    "for x, y in train_data:\n",
    "    if cnt >= train_data.n: break\n",
    "    for b in np.argmax(y, axis=-1):\n",
    "        print(f'\\r%{cnt * 100 / train_data.n : .2f}', end='')\n",
    "        freq[b] += 1\n",
    "        cnt += 1"
   ]
  },
  {
   "cell_type": "code",
   "execution_count": null,
   "id": "79a74aa2",
   "metadata": {},
   "outputs": [],
   "source": [
    "plt.figure(figsize=(10, 6))\n",
    "plt.grid(True)\n",
    "plt.bar(range(100), freq);\n",
    "plt.xlabel('Class');\n",
    "plt.ylabel('Frequency');"
   ]
  },
  {
   "cell_type": "code",
   "execution_count": null,
   "id": "5c5e9847",
   "metadata": {
    "scrolled": false
   },
   "outputs": [],
   "source": [
    "x, y = next(train_data)\n",
    "y = np.argmax(y, axis=-1)\n",
    "fig, ax = plt.subplots(8, 4, figsize=(10, 20))\n",
    "cnt = 0\n",
    "for a in ax.flatten():\n",
    "    a.grid(False)\n",
    "    a.tick_params('both', bottom=False, labelbottom=False, left=False, labelleft=False)\n",
    "    a.imshow(x[cnt] / 255.0)\n",
    "    _class = indicies_class[y[cnt]]\n",
    "    a.set_title(_class)\n",
    "    cnt += 1\n",
    "    \n",
    "fig.subplots_adjust(top=1)"
   ]
  },
  {
   "cell_type": "markdown",
   "id": "f27043c9",
   "metadata": {},
   "source": [
    "## Model"
   ]
  },
  {
   "cell_type": "code",
   "execution_count": null,
   "id": "d2253853",
   "metadata": {
    "scrolled": false
   },
   "outputs": [],
   "source": [
    "# Use transfer learning\n",
    "base_model = tf.keras.applications.ResNet50(include_top=False, input_shape=target_size + (3, ), weights='imagenet')\n",
    "base_model.summary()"
   ]
  },
  {
   "cell_type": "code",
   "execution_count": null,
   "id": "e5c5902a",
   "metadata": {},
   "outputs": [],
   "source": [
    "def get_base_model(base_model, layer_name):\n",
    "    base_model.trainable = False\n",
    "    inputs = base_model.inputs\n",
    "    outputs = base_model.get_layer(layer_name).output\n",
    "    model = tf.keras.models.Model(inputs=inputs, outputs=outputs)\n",
    "    return model"
   ]
  },
  {
   "cell_type": "code",
   "execution_count": null,
   "id": "a8611b79",
   "metadata": {},
   "outputs": [],
   "source": [
    "def get_uncompiled_model(base_model, training=True):\n",
    "    inputs = base_model.inputs\n",
    "    X = base_model(inputs)\n",
    "    X = Conv2D(filters=2048, kernel_size=3, strides=1, padding='same', activation='relu')(X)\n",
    "    X = BatchNormalization(axis=-1)(X, training=training)\n",
    "    X = MaxPooling2D(strides=2)(X)\n",
    "    \n",
    "    X = Conv2D(filters=2048, kernel_size=3, strides=1, padding='same', activation='relu')(X)\n",
    "    X = BatchNormalization(axis=-1)(X, training=training)\n",
    "    X = MaxPooling2D(strides=2)(X)\n",
    "    \n",
    "    X = GlobalMaxPooling2D()(X)\n",
    "    outputs = Dense(units=100, activation='softmax')(X)\n",
    "    \n",
    "    model = tf.keras.models.Model(inputs=inputs, outputs=outputs)\n",
    "    return model"
   ]
  },
  {
   "cell_type": "code",
   "execution_count": null,
   "id": "23d7bd44",
   "metadata": {},
   "outputs": [],
   "source": [
    "# Defining the model\n",
    "base_model = get_base_model(base_model, 'conv5_block2_out')\n",
    "model = get_uncompiled_model(base_model)\n",
    "model.summary()"
   ]
  },
  {
   "cell_type": "code",
   "execution_count": null,
   "id": "c6e22353",
   "metadata": {},
   "outputs": [],
   "source": [
    "class F1_Score(tf.keras.metrics.Metric):\n",
    "    def __init__(self, name='f1_score', **kwargs):\n",
    "        super(F1_Score, self).__init__(name=name, **kwargs)\n",
    "        self.precision = tf.keras.metrics.Precision()\n",
    "        self.recall = tf.keras.metrics.Recall()\n",
    "        self.f1 = self.add_weight(name='f1', initializer='zeros')\n",
    "        \n",
    "        \n",
    "    def update_state(self, y_true, y_pred, sample_weight=None):\n",
    "        self.precision.update_state(y_true, y_pred)\n",
    "        self.recall.update_state(y_true, y_pred)\n",
    "            \n",
    "    def result(self):\n",
    "        self.f1.assign(2 * (self.precision.result() * self.recall.result()) / (self.precision.result() + self.recall.result() + tf.keras.backend.epsilon()))\n",
    "        return self.f1\n",
    "    \n",
    "    \n",
    "    def reset_state(self):\n",
    "        self.precision.reset_state()\n",
    "        self.recall.reset_state()"
   ]
  },
  {
   "cell_type": "code",
   "execution_count": null,
   "id": "a44182eb",
   "metadata": {},
   "outputs": [],
   "source": [
    "# Compile the model\n",
    "optimizer = tf.optimizers.Adam(learning_rate=1e-4)\n",
    "loss = tf.losses.categorical_crossentropy\n",
    "\n",
    "model.compile(optimizer=optimizer, loss=loss, metrics=['accuracy', F1_Score()])"
   ]
  },
  {
   "cell_type": "code",
   "execution_count": null,
   "id": "ca056798",
   "metadata": {
    "scrolled": false
   },
   "outputs": [],
   "source": [
    "with tf.device('GPU:0'):\n",
    "    train_data.image_data_generator.samplewise_center = True\n",
    "    train_data.image_data_generator.samplewise_std_normalization = True\n",
    "    valid_data.image_data_generator.samplewise_center = True\n",
    "    valid_data.image_data_generator.samplewise_std_normalization = True\n",
    "    history = model.fit(train_data, epochs=200, validation_data=valid_data)"
   ]
  },
  {
   "cell_type": "markdown",
   "id": "077a9217",
   "metadata": {},
   "source": [
    "## Evaluation"
   ]
  },
  {
   "cell_type": "code",
   "execution_count": null,
   "id": "9a14b0f7",
   "metadata": {},
   "outputs": [],
   "source": [
    "fig, ax = plt.subplots(1, 1, figsize=(10, 6))\n",
    "ax.plot(history.epoch, history.history['loss'], label='training')\n",
    "ax.plot(history.epoch, history.history['val_loss'], label='validation')\n",
    "ax.set_title('loss per epoch')\n",
    "ax.set_xlabel('epoch')\n",
    "ax.set_ylabel('loss')\n",
    "fig.legend();"
   ]
  },
  {
   "cell_type": "code",
   "execution_count": null,
   "id": "ca11837d",
   "metadata": {},
   "outputs": [],
   "source": [
    "fig, ax = plt.subplots(1, 1, figsize=(10, 6))\n",
    "ax.plot(history.epoch, history.history['accuracy'], label='training')\n",
    "ax.plot(history.epoch, history.history['val_accuracy'], label='validation')\n",
    "ax.set_title('accuracy per epoch')\n",
    "ax.set_xlabel('epoch')\n",
    "ax.set_ylabel('accuracy')\n",
    "fig.legend();"
   ]
  },
  {
   "cell_type": "code",
   "execution_count": null,
   "id": "8c89e847",
   "metadata": {},
   "outputs": [],
   "source": [
    "fig, ax = plt.subplots(1, 1, figsize=(10, 6))\n",
    "ax.plot(history.epoch, history.history['f1_score'], label='training')\n",
    "ax.plot(history.epoch, history.history['val_f1_score'], label='validation')\n",
    "ax.set_title('f1_score per epoch')\n",
    "ax.set_xlabel('epoch')\n",
    "ax.set_ylabel('f1_score')\n",
    "fig.legend();"
   ]
  },
  {
   "cell_type": "code",
   "execution_count": null,
   "id": "85e41758",
   "metadata": {},
   "outputs": [],
   "source": [
    "y_true = np.array([0 for _ in range(valid_data.n)])\n",
    "y_pred = np.array([0 for _ in range(valid_data.n)])\n",
    "cnt = 0\n",
    "for x, y in valid_data:\n",
    "    y_true[cnt : cnt + y.shape[0]] = np.argmax(y, axis=-1)\n",
    "    y_pred[cnt : cnt + y.shape[0]] = np.argmax(model.predict(x, verbose=0), axis=-1)\n",
    "    cnt += y.shape[0]\n",
    "    print(f'\\r{cnt}', end='')\n",
    "    if cnt >= valid_data.n: break"
   ]
  },
  {
   "cell_type": "code",
   "execution_count": null,
   "id": "070e5aa9",
   "metadata": {},
   "outputs": [],
   "source": [
    "plt.figure(figsize=(20, 20))\n",
    "cm = confusion_matrix(y_true, y_pred)\n",
    "ax = sns.heatmap(cm, cmap='Blues')"
   ]
  },
  {
   "cell_type": "code",
   "execution_count": null,
   "id": "91bf0af8",
   "metadata": {
    "scrolled": false
   },
   "outputs": [],
   "source": [
    "report = classification_report(y_true, y_pred, zero_division=True)\n",
    "print(report)"
   ]
  },
  {
   "cell_type": "code",
   "execution_count": null,
   "id": "c3194203",
   "metadata": {},
   "outputs": [],
   "source": []
  }
 ],
 "metadata": {
  "kernelspec": {
   "display_name": "Python 3 (ipykernel)",
   "language": "python",
   "name": "python3"
  },
  "language_info": {
   "codemirror_mode": {
    "name": "ipython",
    "version": 3
   },
   "file_extension": ".py",
   "mimetype": "text/x-python",
   "name": "python",
   "nbconvert_exporter": "python",
   "pygments_lexer": "ipython3",
   "version": "3.11.3"
  }
 },
 "nbformat": 4,
 "nbformat_minor": 5
}
